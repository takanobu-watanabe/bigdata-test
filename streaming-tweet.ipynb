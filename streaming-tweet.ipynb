{
 "cells": [
  {
   "cell_type": "code",
   "execution_count": 1,
   "metadata": {
    "collapsed": false
   },
   "outputs": [
    {
     "data": {
      "text/html": [
       "\n",
       "            <div>\n",
       "                <p><b>SparkSession - hive</b></p>\n",
       "                \n",
       "        <div>\n",
       "            <p><b>SparkContext</b></p>\n",
       "\n",
       "            <p><a href=\"http://192.168.3.6:4040\">Spark UI</a></p>\n",
       "\n",
       "            <dl>\n",
       "              <dt>Version</dt>\n",
       "                <dd><code>v2.2.0</code></dd>\n",
       "              <dt>Master</dt>\n",
       "                <dd><code>local[*]</code></dd>\n",
       "              <dt>AppName</dt>\n",
       "                <dd><code>PySparkShell</code></dd>\n",
       "            </dl>\n",
       "        </div>\n",
       "        \n",
       "            </div>\n",
       "        "
      ],
      "text/plain": [
       "<pyspark.sql.session.SparkSession at 0x10df0c890>"
      ]
     },
     "execution_count": 1,
     "metadata": {},
     "output_type": "execute_result"
    }
   ],
   "source": [
    "spark"
   ]
  },
  {
   "cell_type": "code",
   "execution_count": 2,
   "metadata": {
    "collapsed": false
   },
   "outputs": [],
   "source": [
    "df = (spark.read\n",
    "      .format(\"com.mongodb.spark.sql.DefaultSource\")\n",
    "      .option(\"uri\",\"mongodb://localhost/tweet.sample\")\n",
    "      .load())\n",
    "df.createOrReplaceTempView('tweet')"
   ]
  },
  {
   "cell_type": "code",
   "execution_count": 4,
   "metadata": {
    "collapsed": false
   },
   "outputs": [
    {
     "name": "stdout",
     "output_type": "stream",
     "text": [
      "+----+-----+\n",
      "|lang|count|\n",
      "+----+-----+\n",
      "|  ja|37927|\n",
      "|  en|32403|\n",
      "|  ko|12524|\n",
      "+----+-----+\n",
      "only showing top 3 rows\n",
      "\n"
     ]
    }
   ],
   "source": [
    "query = '''SELECT lang, count(*) count FROM tweet WHERE delete IS NULL GROUP BY 1 ORDER BY 2 DESC'''\n",
    "spark.sql(query).show(3)\n",
    "        "
   ]
  },
  {
   "cell_type": "code",
   "execution_count": 5,
   "metadata": {
    "collapsed": false
   },
   "outputs": [],
   "source": [
    "query = '''SELECT from_unixtime(timestamp_ms / 1000) time, text from tweet WHERE lang = 'en' '''\n",
    "en_tweets = spark.sql(query)"
   ]
  },
  {
   "cell_type": "code",
   "execution_count": 6,
   "metadata": {
    "collapsed": false
   },
   "outputs": [
    {
     "name": "stdout",
     "output_type": "stream",
     "text": [
      "+-------------------+--------------------+\n",
      "|               time|                text|\n",
      "+-------------------+--------------------+\n",
      "|2017-11-26 16:43:48|my 2 favs 😍😍😍 ...|\n",
      "|2017-11-26 16:43:48|Andrew Bartlett '...|\n",
      "|2017-11-26 16:43:48|RT @mocent0: ‘Hav...|\n",
      "+-------------------+--------------------+\n",
      "only showing top 3 rows\n",
      "\n"
     ]
    }
   ],
   "source": [
    "en_tweets.show(3)"
   ]
  },
  {
   "cell_type": "code",
   "execution_count": 7,
   "metadata": {
    "collapsed": true
   },
   "outputs": [],
   "source": [
    "from pyspark.sql import Row\n",
    "\n",
    "def text_split(row):\n",
    "    for word in row.text.split():\n",
    "        yield Row(time=row.time, word=word)"
   ]
  },
  {
   "cell_type": "code",
   "execution_count": 8,
   "metadata": {
    "collapsed": false
   },
   "outputs": [
    {
     "data": {
      "text/plain": [
       "[Row(time=u'2017-11-26 17:38:08', text=u'RT @Svage2times: Pull up with the clit, lemme lick https://t.co/uRp3O1u6ix')]"
      ]
     },
     "execution_count": 8,
     "metadata": {},
     "output_type": "execute_result"
    }
   ],
   "source": [
    "en_tweets.rdd.take(1)"
   ]
  },
  {
   "cell_type": "code",
   "execution_count": 9,
   "metadata": {
    "collapsed": false
   },
   "outputs": [
    {
     "data": {
      "text/plain": [
       "[Row(time=u'2017-11-26 17:38:08', word=u'RT'),\n",
       " Row(time=u'2017-11-26 17:38:08', word=u'@Svage2times:')]"
      ]
     },
     "execution_count": 9,
     "metadata": {},
     "output_type": "execute_result"
    }
   ],
   "source": [
    "en_tweets.rdd.flatMap(text_split).take(2)"
   ]
  },
  {
   "cell_type": "code",
   "execution_count": 10,
   "metadata": {
    "collapsed": false
   },
   "outputs": [
    {
     "name": "stdout",
     "output_type": "stream",
     "text": [
      "+-------------------+-------------+\n",
      "|               time|         word|\n",
      "+-------------------+-------------+\n",
      "|2017-11-26 17:38:08|           RT|\n",
      "|2017-11-26 17:38:08|@Svage2times:|\n",
      "+-------------------+-------------+\n",
      "only showing top 2 rows\n",
      "\n"
     ]
    }
   ],
   "source": [
    "en_tweets.rdd.flatMap(text_split).toDF().show(2)"
   ]
  },
  {
   "cell_type": "code",
   "execution_count": 11,
   "metadata": {
    "collapsed": true
   },
   "outputs": [],
   "source": [
    "words = en_tweets.rdd.flatMap(text_split).toDF()"
   ]
  },
  {
   "cell_type": "code",
   "execution_count": 12,
   "metadata": {
    "collapsed": false
   },
   "outputs": [],
   "source": [
    "words.createOrReplaceTempView('words')"
   ]
  },
  {
   "cell_type": "code",
   "execution_count": 13,
   "metadata": {
    "collapsed": false
   },
   "outputs": [
    {
     "name": "stdout",
     "output_type": "stream",
     "text": [
      "+----+-----+\n",
      "|word|count|\n",
      "+----+-----+\n",
      "|  RT|18582|\n",
      "| the| 8680|\n",
      "|  to| 7598|\n",
      "+----+-----+\n",
      "only showing top 3 rows\n",
      "\n"
     ]
    }
   ],
   "source": [
    "query = '''SELECT word, count(*) count FROM words GROUP BY 1 ORDER BY 2 DESC'''\n",
    "spark.sql(query).show(3)\n",
    "        "
   ]
  },
  {
   "cell_type": "code",
   "execution_count": 14,
   "metadata": {
    "collapsed": false
   },
   "outputs": [
    {
     "name": "stdout",
     "output_type": "stream",
     "text": [
      "+-------------+-----+\n",
      "|         word|count|\n",
      "+-------------+-----+\n",
      "|           RT|18582|\n",
      "|          the| 8680|\n",
      "|           to| 7598|\n",
      "|            a| 5404|\n",
      "|          and| 5049|\n",
      "|            I| 4631|\n",
      "|           of| 4631|\n",
      "|           is| 4032|\n",
      "|          you| 3987|\n",
      "|           in| 3870|\n",
      "|          for| 3500|\n",
      "|           on| 2365|\n",
      "|         this| 2242|\n",
      "|           my| 2204|\n",
      "|         that| 1869|\n",
      "|         with| 1766|\n",
      "|           me| 1676|\n",
      "|           be| 1628|\n",
      "|            -| 1571|\n",
      "|           it| 1520|\n",
      "|           at| 1491|\n",
      "|            i| 1477|\n",
      "|          are| 1462|\n",
      "|          The| 1420|\n",
      "|         your| 1412|\n",
      "|           so| 1387|\n",
      "|         have| 1246|\n",
      "|          was| 1182|\n",
      "|          but| 1110|\n",
      "|           by| 1082|\n",
      "|          not| 1082|\n",
      "|         just| 1072|\n",
      "|        &amp;| 1071|\n",
      "|         like| 1062|\n",
      "|          all|  991|\n",
      "|         from|  977|\n",
      "|         will|  955|\n",
      "|         when|  922|\n",
      "|          who|  899|\n",
      "|           we|  895|\n",
      "|          one|  821|\n",
      "|           if|  803|\n",
      "|           as|  779|\n",
      "|         they|  759|\n",
      "|         love|  757|\n",
      "|        about|  751|\n",
      "|           up|  738|\n",
      "|           he|  734|\n",
      "|          out|  726|\n",
      "|          You|  722|\n",
      "|          can|  720|\n",
      "|         what|  701|\n",
      "|       people|  673|\n",
      "|          his|  660|\n",
      "|           do|  656|\n",
      "|          how|  651|\n",
      "|          get|  651|\n",
      "|          has|  647|\n",
      "|            A|  640|\n",
      "|           or|  628|\n",
      "|          our|  614|\n",
      "|         know|  583|\n",
      "|           an|  582|\n",
      "|         This|  581|\n",
      "|        their|  557|\n",
      "|           no|  541|\n",
      "|            u|  492|\n",
      "|         more|  480|\n",
      "|          her|  477|\n",
      "|         want|  465|\n",
      "|          I'm|  454|\n",
      "|           My|  450|\n",
      "|           We|  446|\n",
      "|          now|  446|\n",
      "|         good|  444|\n",
      "|         time|  433|\n",
      "|         make|  427|\n",
      "|         much|  417|\n",
      "|       really|  417|\n",
      "|        think|  412|\n",
      "|        don't|  408|\n",
      "|         need|  404|\n",
      "|         been|  395|\n",
      "|        still|  392|\n",
      "|          new|  392|\n",
      "|         some|  388|\n",
      "|          she|  387|\n",
      "|         them|  386|\n",
      "|           If|  385|\n",
      "|      because|  384|\n",
      "|          see|  382|\n",
      "|          I’m|  371|\n",
      "|         back|  368|\n",
      "|         only|  364|\n",
      "|#MissUniverse|  361|\n",
      "|           go|  350|\n",
      "|          And|  349|\n",
      "|          day|  348|\n",
      "|        never|  339|\n",
      "|          got|  333|\n",
      "+-------------+-----+\n",
      "only showing top 100 rows\n",
      "\n"
     ]
    }
   ],
   "source": [
    "spark.sql(query).show(100)"
   ]
  },
  {
   "cell_type": "code",
   "execution_count": 15,
   "metadata": {
    "collapsed": true
   },
   "outputs": [],
   "source": [
    "words.write.saveAsTable('twitter_sample_words')"
   ]
  },
  {
   "cell_type": "code",
   "execution_count": 16,
   "metadata": {
    "collapsed": false
   },
   "outputs": [
    {
     "name": "stdout",
     "output_type": "stream",
     "text": [
      "\u001b[34mtwitter_sample_words\u001b[m\u001b[m\r\n",
      "\r\n",
      "spark-warehouse/twitter_sample_words:\r\n",
      "_SUCCESS\r\n",
      "part-00000-e3862246-7b55-4419-b6a3-4aa9a959eeb1-c000.snappy.parquet\r\n",
      "part-00001-e3862246-7b55-4419-b6a3-4aa9a959eeb1-c000.snappy.parquet\r\n"
     ]
    }
   ],
   "source": [
    "!ls -R spark-warehouse"
   ]
  },
  {
   "cell_type": "code",
   "execution_count": 17,
   "metadata": {
    "collapsed": false
   },
   "outputs": [
    {
     "data": {
      "text/plain": [
       "433713"
      ]
     },
     "execution_count": 17,
     "metadata": {},
     "output_type": "execute_result"
    }
   ],
   "source": [
    "spark.table('twitter_sample_words').count()"
   ]
  },
  {
   "cell_type": "code",
   "execution_count": 18,
   "metadata": {
    "collapsed": false
   },
   "outputs": [
    {
     "data": {
      "text/plain": [
       "116064"
      ]
     },
     "execution_count": 18,
     "metadata": {},
     "output_type": "execute_result"
    }
   ],
   "source": [
    "query = '''SELECT substr(time, 1, 13) time, word, count(*) count FROM twitter_sample_words GROUP BY 1,2 '''\n",
    "spark.sql(query).count()"
   ]
  },
  {
   "cell_type": "code",
   "execution_count": 24,
   "metadata": {
    "collapsed": false
   },
   "outputs": [
    {
     "data": {
      "text/plain": [
       "99565"
      ]
     },
     "execution_count": 24,
     "metadata": {},
     "output_type": "execute_result"
    }
   ],
   "source": [
    "query = '''SELECT word, count,IF(count > 1000, word, concat('COUNT=',count)) category FROM ( SELECT word, count(*) count FROM twitter_sample_words GROUP BY 1)t'''\n",
    "spark.sql(query).count()"
   ]
  },
  {
   "cell_type": "code",
   "execution_count": 26,
   "metadata": {
    "collapsed": false
   },
   "outputs": [
    {
     "name": "stdout",
     "output_type": "stream",
     "text": [
      "+--------------+-----+---------+\n",
      "|          word|count| category|\n",
      "+--------------+-----+---------+\n",
      "|@BuzzFeedNews:|    4|  COUNT=4|\n",
      "|      Scrapped|    2|  COUNT=2|\n",
      "|      everyday|   26| COUNT=26|\n",
      "|@OviyaasFamily|    1|  COUNT=1|\n",
      "|         still|  392|COUNT=392|\n",
      "+--------------+-----+---------+\n",
      "only showing top 5 rows\n",
      "\n"
     ]
    }
   ],
   "source": [
    "spark.sql(query).show(5)"
   ]
  },
  {
   "cell_type": "code",
   "execution_count": 28,
   "metadata": {
    "collapsed": false
   },
   "outputs": [],
   "source": [
    "result = spark.sql(query).toPandas()"
   ]
  },
  {
   "cell_type": "code",
   "execution_count": 32,
   "metadata": {
    "collapsed": false
   },
   "outputs": [
    {
     "data": {
      "text/html": [
       "<div>\n",
       "<table border=\"1\" class=\"dataframe\">\n",
       "  <thead>\n",
       "    <tr style=\"text-align: right;\">\n",
       "      <th></th>\n",
       "      <th>word</th>\n",
       "      <th>count</th>\n",
       "      <th>category</th>\n",
       "    </tr>\n",
       "  </thead>\n",
       "  <tbody>\n",
       "    <tr>\n",
       "      <th>0</th>\n",
       "      <td>@BuzzFeedNews:</td>\n",
       "      <td>4</td>\n",
       "      <td>COUNT=4</td>\n",
       "    </tr>\n",
       "    <tr>\n",
       "      <th>1</th>\n",
       "      <td>Scrapped</td>\n",
       "      <td>2</td>\n",
       "      <td>COUNT=2</td>\n",
       "    </tr>\n",
       "    <tr>\n",
       "      <th>2</th>\n",
       "      <td>everyday</td>\n",
       "      <td>26</td>\n",
       "      <td>COUNT=26</td>\n",
       "    </tr>\n",
       "    <tr>\n",
       "      <th>3</th>\n",
       "      <td>@OviyaasFamily</td>\n",
       "      <td>1</td>\n",
       "      <td>COUNT=1</td>\n",
       "    </tr>\n",
       "    <tr>\n",
       "      <th>4</th>\n",
       "      <td>still</td>\n",
       "      <td>392</td>\n",
       "      <td>COUNT=392</td>\n",
       "    </tr>\n",
       "    <tr>\n",
       "      <th>5</th>\n",
       "      <td>Amazing</td>\n",
       "      <td>40</td>\n",
       "      <td>COUNT=40</td>\n",
       "    </tr>\n",
       "    <tr>\n",
       "      <th>6</th>\n",
       "      <td>those</td>\n",
       "      <td>149</td>\n",
       "      <td>COUNT=149</td>\n",
       "    </tr>\n",
       "    <tr>\n",
       "      <th>7</th>\n",
       "      <td>some</td>\n",
       "      <td>388</td>\n",
       "      <td>COUNT=388</td>\n",
       "    </tr>\n",
       "    <tr>\n",
       "      <th>8</th>\n",
       "      <td>persist</td>\n",
       "      <td>2</td>\n",
       "      <td>COUNT=2</td>\n",
       "    </tr>\n",
       "    <tr>\n",
       "      <th>9</th>\n",
       "      <td>hope</td>\n",
       "      <td>111</td>\n",
       "      <td>COUNT=111</td>\n",
       "    </tr>\n",
       "  </tbody>\n",
       "</table>\n",
       "</div>"
      ],
      "text/plain": [
       "             word  count   category\n",
       "0  @BuzzFeedNews:      4    COUNT=4\n",
       "1        Scrapped      2    COUNT=2\n",
       "2        everyday     26   COUNT=26\n",
       "3  @OviyaasFamily      1    COUNT=1\n",
       "4           still    392  COUNT=392\n",
       "5         Amazing     40   COUNT=40\n",
       "6           those    149  COUNT=149\n",
       "7            some    388  COUNT=388\n",
       "8         persist      2    COUNT=2\n",
       "9            hope    111  COUNT=111"
      ]
     },
     "execution_count": 32,
     "metadata": {},
     "output_type": "execute_result"
    }
   ],
   "source": [
    "result.head(10)"
   ]
  },
  {
   "cell_type": "code",
   "execution_count": 41,
   "metadata": {
    "collapsed": false,
    "scrolled": true
   },
   "outputs": [
    {
     "data": {
      "text/html": [
       "<div>\n",
       "<table border=\"1\" class=\"dataframe\">\n",
       "  <thead>\n",
       "    <tr style=\"text-align: right;\">\n",
       "      <th></th>\n",
       "      <th>time</th>\n",
       "      <th>word</th>\n",
       "      <th>count</th>\n",
       "    </tr>\n",
       "  </thead>\n",
       "  <tbody>\n",
       "    <tr>\n",
       "      <th>0</th>\n",
       "      <td>2017-11-26 17:00:00</td>\n",
       "      <td>We</td>\n",
       "      <td>153</td>\n",
       "    </tr>\n",
       "    <tr>\n",
       "      <th>1</th>\n",
       "      <td>2017-11-26 17:00:00</td>\n",
       "      <td>download</td>\n",
       "      <td>5</td>\n",
       "    </tr>\n",
       "    <tr>\n",
       "      <th>2</th>\n",
       "      <td>2017-11-26 17:00:00</td>\n",
       "      <td>Hyojin</td>\n",
       "      <td>2</td>\n",
       "    </tr>\n",
       "    <tr>\n",
       "      <th>3</th>\n",
       "      <td>2017-11-26 17:00:00</td>\n",
       "      <td>press</td>\n",
       "      <td>34</td>\n",
       "    </tr>\n",
       "    <tr>\n",
       "      <th>4</th>\n",
       "      <td>2017-11-26 17:00:00</td>\n",
       "      <td>@milliebbrown:</td>\n",
       "      <td>7</td>\n",
       "    </tr>\n",
       "    <tr>\n",
       "      <th>5</th>\n",
       "      <td>2017-11-26 17:00:00</td>\n",
       "      <td>fuck</td>\n",
       "      <td>71</td>\n",
       "    </tr>\n",
       "    <tr>\n",
       "      <th>6</th>\n",
       "      <td>2017-11-26 17:00:00</td>\n",
       "      <td>janet</td>\n",
       "      <td>3</td>\n",
       "    </tr>\n",
       "    <tr>\n",
       "      <th>7</th>\n",
       "      <td>2017-11-26 17:00:00</td>\n",
       "      <td>Muhammadu</td>\n",
       "      <td>1</td>\n",
       "    </tr>\n",
       "    <tr>\n",
       "      <th>8</th>\n",
       "      <td>2017-11-26 17:00:00</td>\n",
       "      <td>@DrWhoOnline:</td>\n",
       "      <td>1</td>\n",
       "    </tr>\n",
       "    <tr>\n",
       "      <th>9</th>\n",
       "      <td>2017-11-26 17:00:00</td>\n",
       "      <td>@ArmaanMalik22</td>\n",
       "      <td>1</td>\n",
       "    </tr>\n",
       "  </tbody>\n",
       "</table>\n",
       "</div>"
      ],
      "text/plain": [
       "                 time            word  count\n",
       "0 2017-11-26 17:00:00              We    153\n",
       "1 2017-11-26 17:00:00        download      5\n",
       "2 2017-11-26 17:00:00          Hyojin      2\n",
       "3 2017-11-26 17:00:00           press     34\n",
       "4 2017-11-26 17:00:00  @milliebbrown:      7\n",
       "5 2017-11-26 17:00:00            fuck     71\n",
       "6 2017-11-26 17:00:00           janet      3\n",
       "7 2017-11-26 17:00:00       Muhammadu      1\n",
       "8 2017-11-26 17:00:00   @DrWhoOnline:      1\n",
       "9 2017-11-26 17:00:00  @ArmaanMalik22      1"
      ]
     },
     "execution_count": 41,
     "metadata": {},
     "output_type": "execute_result"
    }
   ],
   "source": [
    "import pandas as pd\n",
    "query = '''SELECT substr(time, 1, 13) time, word, count(*) count FROM twitter_sample_words GROUP BY 1,2 '''\n",
    "result=spark.sql(query).toPandas()\n",
    "result['time'] = pd.to_datetime(result['time'])\n",
    "result.head(10)\n"
   ]
  },
  {
   "cell_type": "code",
   "execution_count": 43,
   "metadata": {
    "collapsed": false
   },
   "outputs": [],
   "source": [
    "result.to_csv('word_summary.csv', index=False, encoding='utf-8')"
   ]
  },
  {
   "cell_type": "code",
   "execution_count": null,
   "metadata": {
    "collapsed": true
   },
   "outputs": [],
   "source": []
  },
  {
   "cell_type": "code",
   "execution_count": null,
   "metadata": {
    "collapsed": true
   },
   "outputs": [],
   "source": []
  },
  {
   "cell_type": "code",
   "execution_count": null,
   "metadata": {
    "collapsed": true
   },
   "outputs": [],
   "source": []
  },
  {
   "cell_type": "code",
   "execution_count": null,
   "metadata": {
    "collapsed": true
   },
   "outputs": [],
   "source": []
  },
  {
   "cell_type": "code",
   "execution_count": null,
   "metadata": {
    "collapsed": true
   },
   "outputs": [],
   "source": []
  },
  {
   "cell_type": "code",
   "execution_count": null,
   "metadata": {
    "collapsed": true
   },
   "outputs": [],
   "source": []
  },
  {
   "cell_type": "code",
   "execution_count": null,
   "metadata": {
    "collapsed": true
   },
   "outputs": [],
   "source": []
  },
  {
   "cell_type": "code",
   "execution_count": null,
   "metadata": {
    "collapsed": true
   },
   "outputs": [],
   "source": []
  },
  {
   "cell_type": "code",
   "execution_count": null,
   "metadata": {
    "collapsed": true
   },
   "outputs": [],
   "source": []
  },
  {
   "cell_type": "code",
   "execution_count": null,
   "metadata": {
    "collapsed": true
   },
   "outputs": [],
   "source": []
  },
  {
   "cell_type": "code",
   "execution_count": null,
   "metadata": {
    "collapsed": true
   },
   "outputs": [],
   "source": []
  },
  {
   "cell_type": "code",
   "execution_count": null,
   "metadata": {
    "collapsed": true
   },
   "outputs": [],
   "source": []
  },
  {
   "cell_type": "code",
   "execution_count": null,
   "metadata": {
    "collapsed": true
   },
   "outputs": [],
   "source": []
  },
  {
   "cell_type": "code",
   "execution_count": null,
   "metadata": {
    "collapsed": true
   },
   "outputs": [],
   "source": []
  },
  {
   "cell_type": "code",
   "execution_count": null,
   "metadata": {
    "collapsed": true
   },
   "outputs": [],
   "source": []
  },
  {
   "cell_type": "code",
   "execution_count": null,
   "metadata": {
    "collapsed": true
   },
   "outputs": [],
   "source": []
  },
  {
   "cell_type": "code",
   "execution_count": null,
   "metadata": {
    "collapsed": true
   },
   "outputs": [],
   "source": []
  },
  {
   "cell_type": "code",
   "execution_count": null,
   "metadata": {
    "collapsed": true
   },
   "outputs": [],
   "source": []
  }
 ],
 "metadata": {
  "kernelspec": {
   "display_name": "Python 2",
   "language": "python",
   "name": "python2"
  },
  "language_info": {
   "codemirror_mode": {
    "name": "ipython",
    "version": 2
   },
   "file_extension": ".py",
   "mimetype": "text/x-python",
   "name": "python",
   "nbconvert_exporter": "python",
   "pygments_lexer": "ipython2",
   "version": "2.7.13"
  }
 },
 "nbformat": 4,
 "nbformat_minor": 2
}
