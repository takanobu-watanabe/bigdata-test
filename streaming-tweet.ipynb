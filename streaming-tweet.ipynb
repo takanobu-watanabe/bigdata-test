{
 "cells": [
  {
   "cell_type": "code",
   "execution_count": 15,
   "metadata": {
    "collapsed": false
   },
   "outputs": [
    {
     "data": {
      "text/html": [
       "\n",
       "            <div>\n",
       "                <p><b>SparkSession - hive</b></p>\n",
       "                \n",
       "        <div>\n",
       "            <p><b>SparkContext</b></p>\n",
       "\n",
       "            <p><a href=\"http://192.168.3.6:4040\">Spark UI</a></p>\n",
       "\n",
       "            <dl>\n",
       "              <dt>Version</dt>\n",
       "                <dd><code>v2.2.0</code></dd>\n",
       "              <dt>Master</dt>\n",
       "                <dd><code>local[*]</code></dd>\n",
       "              <dt>AppName</dt>\n",
       "                <dd><code>PySparkShell</code></dd>\n",
       "            </dl>\n",
       "        </div>\n",
       "        \n",
       "            </div>\n",
       "        "
      ],
      "text/plain": [
       "<pyspark.sql.session.SparkSession at 0x106144750>"
      ]
     },
     "execution_count": 15,
     "metadata": {},
     "output_type": "execute_result"
    }
   ],
   "source": [
    "spark"
   ]
  },
  {
   "cell_type": "code",
   "execution_count": 20,
   "metadata": {
    "collapsed": false
   },
   "outputs": [],
   "source": [
    "df = (spark.read\n",
    "      .format(\"com.mongodb.spark.sql.DefaultSource\")\n",
    "      .option(\"uri\",\"mongodb://localhost/tweet.sample\")\n",
    "      .load())\n",
    "df.createOrReplaceTempView('tweet')"
   ]
  },
  {
   "cell_type": "code",
   "execution_count": 22,
   "metadata": {
    "collapsed": false
   },
   "outputs": [
    {
     "name": "stdout",
     "output_type": "stream",
     "text": [
      "+----+-----+\n",
      "|lang|count|\n",
      "+----+-----+\n",
      "|  en| 1816|\n",
      "|  ja| 1764|\n",
      "|  ko|  641|\n",
      "+----+-----+\n",
      "only showing top 3 rows\n",
      "\n"
     ]
    }
   ],
   "source": [
    "query = '''SELECT lang, count(*) count FROM tweet WHERE delete IS NULL GROUP BY 1 ORDER BY 2 DESC'''\n",
    "spark.sql(query).show(3)\n",
    "        "
   ]
  },
  {
   "cell_type": "code",
   "execution_count": 29,
   "metadata": {
    "collapsed": false
   },
   "outputs": [],
   "source": [
    "query = '''SELECT from_unixtime(timestamp_ms / 1000) time, text from tweet WHERE lang = 'en' '''\n",
    "en_tweets = spark.sql(query)"
   ]
  },
  {
   "cell_type": "code",
   "execution_count": 30,
   "metadata": {
    "collapsed": false
   },
   "outputs": [
    {
     "name": "stdout",
     "output_type": "stream",
     "text": [
      "+-------------------+--------------------+\n",
      "|               time|                text|\n",
      "+-------------------+--------------------+\n",
      "|2017-11-26 16:41:59|RT @Paula_White: ...|\n",
      "|2017-11-26 16:41:59|          anywayyyyy|\n",
      "|2017-11-26 16:41:59|RT @ENGlobalME: T...|\n",
      "+-------------------+--------------------+\n",
      "only showing top 3 rows\n",
      "\n"
     ]
    }
   ],
   "source": [
    "en_tweets.show(3)"
   ]
  },
  {
   "cell_type": "code",
   "execution_count": 32,
   "metadata": {
    "collapsed": true
   },
   "outputs": [],
   "source": [
    "from pyspark.sql import Row\n",
    "\n",
    "def text_split(row):\n",
    "    for word in row.text.split():\n",
    "        yield Row(time=row.time, word=word)"
   ]
  },
  {
   "cell_type": "code",
   "execution_count": 33,
   "metadata": {
    "collapsed": false
   },
   "outputs": [
    {
     "data": {
      "text/plain": [
       "[Row(time=u'2017-11-26 16:41:59', text=u'RT @Paula_White: Your stutter won\\u2019t stop your anointing!')]"
      ]
     },
     "execution_count": 33,
     "metadata": {},
     "output_type": "execute_result"
    }
   ],
   "source": [
    "en_tweets.rdd.take(1)"
   ]
  },
  {
   "cell_type": "code",
   "execution_count": 34,
   "metadata": {
    "collapsed": false
   },
   "outputs": [
    {
     "data": {
      "text/plain": [
       "[Row(time=u'2017-11-26 16:41:59', word=u'RT'),\n",
       " Row(time=u'2017-11-26 16:41:59', word=u'@Paula_White:')]"
      ]
     },
     "execution_count": 34,
     "metadata": {},
     "output_type": "execute_result"
    }
   ],
   "source": [
    "en_tweets.rdd.flatMap(text_split).take(2)"
   ]
  },
  {
   "cell_type": "code",
   "execution_count": 35,
   "metadata": {
    "collapsed": false
   },
   "outputs": [
    {
     "name": "stdout",
     "output_type": "stream",
     "text": [
      "+-------------------+-------------+\n",
      "|               time|         word|\n",
      "+-------------------+-------------+\n",
      "|2017-11-26 16:41:59|           RT|\n",
      "|2017-11-26 16:41:59|@Paula_White:|\n",
      "+-------------------+-------------+\n",
      "only showing top 2 rows\n",
      "\n"
     ]
    }
   ],
   "source": [
    "en_tweets.rdd.flatMap(text_split).toDF().show(2)"
   ]
  },
  {
   "cell_type": "code",
   "execution_count": 36,
   "metadata": {
    "collapsed": true
   },
   "outputs": [],
   "source": [
    "words = en_tweets.rdd.flatMap(text_split).toDF()"
   ]
  },
  {
   "cell_type": "code",
   "execution_count": 38,
   "metadata": {
    "collapsed": false
   },
   "outputs": [],
   "source": [
    "words.createOrReplaceTempView('words')"
   ]
  },
  {
   "cell_type": "code",
   "execution_count": 40,
   "metadata": {
    "collapsed": false
   },
   "outputs": [
    {
     "name": "stdout",
     "output_type": "stream",
     "text": [
      "+----+-----+\n",
      "|word|count|\n",
      "+----+-----+\n",
      "|  RT| 1130|\n",
      "| the|  524|\n",
      "|  to|  462|\n",
      "+----+-----+\n",
      "only showing top 3 rows\n",
      "\n"
     ]
    }
   ],
   "source": [
    "query = '''SELECT word, count(*) count FROM words GROUP BY 1 ORDER BY 2 DESC'''\n",
    "spark.sql(query).show(3)\n",
    "        "
   ]
  },
  {
   "cell_type": "code",
   "execution_count": 41,
   "metadata": {
    "collapsed": false
   },
   "outputs": [
    {
     "name": "stdout",
     "output_type": "stream",
     "text": [
      "+-------+-----+\n",
      "|   word|count|\n",
      "+-------+-----+\n",
      "|     RT| 1130|\n",
      "|    the|  524|\n",
      "|     to|  462|\n",
      "|      a|  326|\n",
      "|      I|  310|\n",
      "|     is|  277|\n",
      "|    and|  276|\n",
      "|     of|  255|\n",
      "|    you|  247|\n",
      "|    for|  229|\n",
      "|     in|  227|\n",
      "|     my|  150|\n",
      "|   that|  142|\n",
      "|   this|  138|\n",
      "|     on|  134|\n",
      "|     it|  110|\n",
      "|     be|  110|\n",
      "|     me|  104|\n",
      "|     so|   97|\n",
      "|   with|   89|\n",
      "|    The|   88|\n",
      "|   have|   87|\n",
      "|    are|   85|\n",
      "|    was|   84|\n",
      "|      i|   80|\n",
      "|     at|   78|\n",
      "|   just|   74|\n",
      "|    all|   73|\n",
      "|      -|   72|\n",
      "|   your|   71|\n",
      "|     if|   66|\n",
      "|  &amp;|   65|\n",
      "|    but|   64|\n",
      "|   like|   64|\n",
      "|     by|   61|\n",
      "|    not|   59|\n",
      "|     he|   58|\n",
      "|    has|   57|\n",
      "|    who|   55|\n",
      "|   from|   54|\n",
      "|     we|   54|\n",
      "|     up|   53|\n",
      "|    get|   52|\n",
      "|   when|   51|\n",
      "|    You|   51|\n",
      "|     as|   49|\n",
      "|   they|   49|\n",
      "|   will|   48|\n",
      "|     or|   47|\n",
      "|    can|   45|\n",
      "|    out|   43|\n",
      "|    one|   42|\n",
      "|   love|   42|\n",
      "|     an|   42|\n",
      "|   more|   42|\n",
      "|    now|   39|\n",
      "|    how|   38|\n",
      "|     do|   38|\n",
      "|   good|   37|\n",
      "| really|   37|\n",
      "|    her|   37|\n",
      "|  about|   37|\n",
      "|   what|   36|\n",
      "|    our|   35|\n",
      "|      A|   35|\n",
      "|     go|   35|\n",
      "|     no|   35|\n",
      "|   want|   35|\n",
      "|   than|   35|\n",
      "|    see|   34|\n",
      "|    I'm|   32|\n",
      "|   This|   32|\n",
      "| people|   32|\n",
      "|because|   31|\n",
      "|  their|   30|\n",
      "|     My|   30|\n",
      "|   time|   30|\n",
      "|     If|   29|\n",
      "|   been|   29|\n",
      "|    she|   29|\n",
      "|    his|   29|\n",
      "|     We|   29|\n",
      "|      u|   27|\n",
      "|  don't|   27|\n",
      "|  never|   27|\n",
      "|   some|   27|\n",
      "|   know|   27|\n",
      "|    got|   26|\n",
      "|     TO|   26|\n",
      "|   make|   26|\n",
      "|   much|   26|\n",
      "|someone|   25|\n",
      "|  would|   25|\n",
      "|   then|   24|\n",
      "|  first|   24|\n",
      "|    say|   24|\n",
      "|   When|   24|\n",
      "|   it's|   23|\n",
      "|  video|   22|\n",
      "|  going|   22|\n",
      "+-------+-----+\n",
      "only showing top 100 rows\n",
      "\n"
     ]
    }
   ],
   "source": [
    "spark.sql(query).show(100)"
   ]
  },
  {
   "cell_type": "code",
   "execution_count": 42,
   "metadata": {
    "collapsed": true
   },
   "outputs": [],
   "source": [
    "words.write.saveAsTable('twitter_sample_words')"
   ]
  },
  {
   "cell_type": "code",
   "execution_count": 43,
   "metadata": {
    "collapsed": false
   },
   "outputs": [
    {
     "name": "stdout",
     "output_type": "stream",
     "text": [
      "\u001b[34mtwitter_sample_words\u001b[m\u001b[m\r\n",
      "\r\n",
      "spark-warehouse/twitter_sample_words:\r\n",
      "_SUCCESS\r\n",
      "part-00000-356bb5fb-bf9f-4227-9349-f3b2b6a4d41b-c000.snappy.parquet\r\n"
     ]
    }
   ],
   "source": [
    "!ls -R spark-warehouse"
   ]
  },
  {
   "cell_type": "code",
   "execution_count": 44,
   "metadata": {
    "collapsed": false
   },
   "outputs": [
    {
     "data": {
      "text/plain": [
       "26057"
      ]
     },
     "execution_count": 44,
     "metadata": {},
     "output_type": "execute_result"
    }
   ],
   "source": [
    "spark.table('twitter_sample_words').count()"
   ]
  },
  {
   "cell_type": "code",
   "execution_count": null,
   "metadata": {
    "collapsed": true
   },
   "outputs": [],
   "source": []
  }
 ],
 "metadata": {
  "kernelspec": {
   "display_name": "Python 2",
   "language": "python",
   "name": "python2"
  },
  "language_info": {
   "codemirror_mode": {
    "name": "ipython",
    "version": 2
   },
   "file_extension": ".py",
   "mimetype": "text/x-python",
   "name": "python",
   "nbconvert_exporter": "python",
   "pygments_lexer": "ipython2",
   "version": "2.7.13"
  }
 },
 "nbformat": 4,
 "nbformat_minor": 2
}
